{
 "cells": [
  {
   "cell_type": "markdown",
   "metadata": {
    "editable": true
   },
   "source": [
    "# Code to draw DB diagram "
   ]
  },
  {
   "cell_type": "markdown",
   "metadata": {
    "editable": true
   },
   "source": [
    "### Import config"
   ]
  },
  {
   "cell_type": "code",
   "execution_count": 4,
   "metadata": {
    "editable": true
   },
   "outputs": [],
   "source": [
    "import configparser\n",
    "\n",
    "# Load & Parse config file\n",
    "config = configparser.ConfigParser()\n",
    "config.read_file(open('dwh.cfg'))"
   ]
  },
  {
   "cell_type": "code",
   "execution_count": 6,
   "metadata": {
    "editable": true
   },
   "outputs": [],
   "source": [
    "DB_NAME            = config.get(\"CLUSTER\",\"DB_NAME\")\n",
    "DB_USER            = config.get(\"CLUSTER\",\"DB_USER\")\n",
    "DB_PASSWORD        = config.get(\"CLUSTER\",\"DB_PASSWORD\")\n",
    "DB_PORT            = config.get(\"CLUSTER\",\"DB_PORT\")"
   ]
  },
  {
   "cell_type": "markdown",
   "metadata": {
    "editable": true
   },
   "source": [
    "### Draw DB diagram"
   ]
  },
  {
   "cell_type": "code",
   "execution_count": 7,
   "metadata": {
    "editable": true
   },
   "outputs": [],
   "source": [
    "from sqlalchemy import MetaData\n",
    "from sqlalchemy_schemadisplay import create_schema_graph\n",
    "\n",
    "# create the pydot graph object by autoloading all tables via a bound metadata object\n",
    "graph = create_schema_graph(metadata=MetaData('postgresql://{}:{}@redshift.cqiufo7lbjxk.us-west-2.redshift.amazonaws.com:{}/{}'.format(DB_USER, DB_PASSWORD, DB_PORT, DB_NAME)),\n",
    "    show_datatypes=False, # The image would get nasty big if we'd show the datatypes\n",
    "    show_indexes=False, # ditto for indexes\n",
    "    rankdir='LR', # From left to right (instead of top to bottom)\n",
    "    concentrate=False # Don't try to join the relation lines together\n",
    ")\n",
    "graph.write_png('dbschema.png') # write out the file"
   ]
  },
  {
   "cell_type": "code",
   "execution_count": null,
   "metadata": {
    "editable": true
   },
   "outputs": [],
   "source": []
  }
 ],
 "metadata": {
  "kernelspec": {
   "display_name": "Python 3",
   "language": "python",
   "name": "python3"
  },
  "language_info": {
   "codemirror_mode": {
    "name": "ipython",
    "version": 3
   },
   "file_extension": ".py",
   "mimetype": "text/x-python",
   "name": "python",
   "nbconvert_exporter": "python",
   "pygments_lexer": "ipython3",
   "version": "3.6.3"
  }
 },
 "nbformat": 4,
 "nbformat_minor": 4
}
