{
 "cells": [
  {
   "cell_type": "code",
   "execution_count": 3,
   "metadata": {
    "editable": true
   },
   "outputs": [],
   "source": [
    "import pandas as pd\n",
    "import boto3\n",
    "import json\n",
    "import psycopg2"
   ]
  },
  {
   "cell_type": "code",
   "execution_count": 4,
   "metadata": {
    "editable": true
   },
   "outputs": [],
   "source": [
    "import configparser\n",
    "config = configparser.ConfigParser()\n",
    "config.read_file(open('dwh.cfg'))\n",
    "\n",
    "KEY = config.get('AWS','key')\n",
    "SECRET = config.get('AWS','secret')\n"
   ]
  },
  {
   "cell_type": "code",
   "execution_count": 5,
   "metadata": {
    "editable": true
   },
   "outputs": [],
   "source": [
    "s3 = boto3.resource('s3',\n",
    "                    region_name='us-west-2',\n",
    "                    aws_access_key_id=KEY,\n",
    "                    aws_secret_access_key=SECRET\n",
    "                  )\n",
    "\n",
    "bucket = s3.Bucket('udacity-dend')"
   ]
  },
  {
   "cell_type": "markdown",
   "metadata": {
    "editable": true
   },
   "source": [
    "#  Display data \n",
    "## Song Files"
   ]
  },
  {
   "cell_type": "code",
   "execution_count": null,
   "metadata": {
    "editable": true
   },
   "outputs": [],
   "source": [
    "for obj in bucket.objects.filter(Prefix='song_data'):\n",
    "    print(obj)"
   ]
  },
  {
   "cell_type": "markdown",
   "metadata": {
    "editable": true
   },
   "source": [
    "## Log Files"
   ]
  },
  {
   "cell_type": "code",
   "execution_count": null,
   "metadata": {
    "editable": true
   },
   "outputs": [],
   "source": [
    "for obj in bucket.objects.filter(Prefix='log_data'):\n",
    "    print(obj)"
   ]
  },
  {
   "cell_type": "markdown",
   "metadata": {
    "editable": true
   },
   "source": [
    "## Log Json file"
   ]
  },
  {
   "cell_type": "code",
   "execution_count": 29,
   "metadata": {
    "editable": true
   },
   "outputs": [
    {
     "name": "stdout",
     "output_type": "stream",
     "text": [
      "{\n",
      "    \"jsonpaths\": [\n",
      "        \"$['artist']\",\n",
      "        \"$['auth']\",\n",
      "        \"$['firstName']\",\n",
      "        \"$['gender']\",\n",
      "        \"$['itemInSession']\",\n",
      "        \"$['lastName']\",\n",
      "        \"$['length']\",\n",
      "        \"$['level']\",\n",
      "        \"$['location']\",\n",
      "        \"$['method']\",\n",
      "        \"$['page']\",\n",
      "        \"$['registration']\",\n",
      "        \"$['sessionId']\",\n",
      "        \"$['song']\",\n",
      "        \"$['status']\",\n",
      "        \"$['ts']\",\n",
      "        \"$['userAgent']\",\n",
      "        \"$['userId']\"\n",
      "    ]\n",
      "}\n"
     ]
    }
   ],
   "source": [
    "content_object = s3.Object('udacity-dend', 'log_json_path.json')\n",
    "file_content = content_object.get()['Body'].read().decode('utf-8')\n",
    "\n",
    "print(file_content)\n"
   ]
  },
  {
   "cell_type": "markdown",
   "metadata": {
    "editable": true
   },
   "source": [
    "# Display DB Tables"
   ]
  },
  {
   "cell_type": "code",
   "execution_count": 6,
   "metadata": {
    "editable": true
   },
   "outputs": [],
   "source": [
    "conn = psycopg2.connect(\"host={} dbname={} user={} password={} port={}\".format(*config['CLUSTER'].values()))\n",
    "cur = conn.cursor()"
   ]
  },
  {
   "cell_type": "code",
   "execution_count": 7,
   "metadata": {
    "editable": true
   },
   "outputs": [
    {
     "name": "stdout",
     "output_type": "stream",
     "text": [
      "[('SONHGLD12AB0188D47', 1, 'AR1S3NH1187B98C2BC', None, None, 'Clarks Town, Jamaica', 'Anthony B', 'Our Father', 202.4224, 1999), ('SOQXJID12A8AE456CD', 1, 'ARBJ3VU1187B9B472D', None, None, '', 'Love Of Lesbian', 'Domingo astronómico', 264.69832, 2005), ('SOAFBKM12AB01837A7', 1, 'ARL14X91187FB4CF14', None, None, '', 'Anal Cunt', 'Brain Dead', 94.22322, 1995), ('SOINBCU12A6D4F94C0', 1, 'ARV1JVD1187B9AD195', '35.914630000000002', '-79.056610000000006', 'Chapel Hill, NC', 'Loudon Wainwright III', 'Human Cannonball', 190.48444, 1995), ('SODJYTL12A8C14550E', 1, 'ARHAJH611C8A4219F1', None, None, '', \"La Bottega Dell'Arte\", 'Noi Nel Bene_ Noi Nel Male', 223.242, 0)]\n"
     ]
    }
   ],
   "source": [
    "cur.execute(\"\"\"\n",
    "SELECT * FROM staging_songs\n",
    "Limit 5;\n",
    "\"\"\"\n",
    ")\n",
    "print(cur.fetchall()) "
   ]
  },
  {
   "cell_type": "code",
   "execution_count": 8,
   "metadata": {
    "editable": true
   },
   "outputs": [
    {
     "name": "stdout",
     "output_type": "stream",
     "text": [
      "[(2, 'N.E.R.D. FEATURING MALICE', 'Logged In', 'Jayden', 'M', 0, 'Fox', 288.9922, 'free', 'New Orleans-Metairie, LA', 'PUT', 'NextSong', '1541033612796', 184, 'Am I High (Feat. Malice)', 200, '1541121934796', '\"Mozilla/5.0 (Windows NT 6.3; WOW64) AppleWebKit/537.36 (KHTML, like Gecko) Chrome/36.0.1985.143 Safari/537.36\"', '101'), (6, None, 'Logged In', 'Stefany', 'F', 0, 'White', None, 'free', 'Lubbock, TX', 'GET', 'Home', '1540708070796', 82, None, 200, '1541122176796', '\"Mozilla/5.0 (Macintosh; Intel Mac OS X 10_9_4) AppleWebKit/537.36 (KHTML, like Gecko) Chrome/36.0.1985.143 Safari/537.36\"', '83'), (10, 'Death Cab for Cutie', 'Logged In', 'Stefany', 'F', 1, 'White', 216.42404, 'free', 'Lubbock, TX', 'PUT', 'NextSong', '1540708070796', 82, 'A Lack Of Color (Album Version)', 200, '1541122241796', '\"Mozilla/5.0 (Macintosh; Intel Mac OS X 10_9_4) AppleWebKit/537.36 (KHTML, like Gecko) Chrome/36.0.1985.143 Safari/537.36\"', '83'), (14, 'Tracy Gang Pussy', 'Logged In', 'Stefany', 'F', 2, 'White', 221.33506, 'free', 'Lubbock, TX', 'PUT', 'NextSong', '1540708070796', 82, 'I Have A Wish', 200, '1541122457796', '\"Mozilla/5.0 (Macintosh; Intel Mac OS X 10_9_4) AppleWebKit/537.36 (KHTML, like Gecko) Chrome/36.0.1985.143 Safari/537.36\"', '83'), (18, 'Skillet', 'Logged In', 'Kevin', 'M', 0, 'Arellano', 178.02404, 'free', 'Harrisburg-Carlisle, PA', 'PUT', 'NextSong', '1540006905796', 153, 'Monster (Album Version)', 200, '1541126568796', '\"Mozilla/5.0 (Macintosh; Intel Mac OS X 10_9_4) AppleWebKit/537.36 (KHTML, like Gecko) Chrome/36.0.1985.125 Safari/537.36\"', '66')]\n"
     ]
    }
   ],
   "source": [
    "cur.execute(\"\"\"\n",
    "SELECT * FROM staging_events\n",
    "Limit 5;\n",
    "\"\"\"\n",
    ")\n",
    "print(cur.fetchall()) "
   ]
  },
  {
   "cell_type": "markdown",
   "metadata": {
    "editable": true
   },
   "source": [
    "## Testing"
   ]
  },
  {
   "cell_type": "code",
   "execution_count": 13,
   "metadata": {
    "editable": true
   },
   "outputs": [
    {
     "name": "stdout",
     "output_type": "stream",
     "text": [
      "\n",
      "    copy         staging_events \n",
      "    from         's3://udacity-dend/log_data'\n",
      "    credentials  'aws_iam_role=arn:aws:iam::567714418050:role/redRole'\n",
      "    region       'us-west-2'\n",
      "    json         's3://udacity-dend/log_json_path.json';\n",
      "    \n"
     ]
    }
   ],
   "source": [
    "print(\n",
    "    \"\"\"\n",
    "    copy         staging_events \n",
    "    from         {}\n",
    "    credentials  'aws_iam_role={}'\n",
    "    region       'us-west-2'\n",
    "    json         {};\n",
    "    \"\"\".format(config['S3']['LOG_DATA'], \n",
    "               config['IAM']['IAM_ARN'], \n",
    "               config['S3']['LOG_JSONPATH'])\n",
    ")"
   ]
  }
 ],
 "metadata": {
  "kernelspec": {
   "display_name": "Python 3",
   "language": "python",
   "name": "python3"
  },
  "language_info": {
   "codemirror_mode": {
    "name": "ipython",
    "version": 3
   },
   "file_extension": ".py",
   "mimetype": "text/x-python",
   "name": "python",
   "nbconvert_exporter": "python",
   "pygments_lexer": "ipython3",
   "version": "3.6.3"
  }
 },
 "nbformat": 4,
 "nbformat_minor": 4
}
